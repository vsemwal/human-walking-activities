{
  "nbformat": 4,
  "nbformat_minor": 0,
  "metadata": {
    "kernelspec": {
      "display_name": "Python 3",
      "language": "python",
      "name": "python3"
    },
    "language_info": {
      "codemirror_mode": {
        "name": "ipython",
        "version": 3
      },
      "file_extension": ".py",
      "mimetype": "text/x-python",
      "name": "python",
      "nbconvert_exporter": "python",
      "pygments_lexer": "ipython3",
      "version": "3.7.3"
    },
    "colab": {
      "name": "Different_Speed_DNN.ipynb",
      "provenance": [],
      "include_colab_link": true
    }
  },
  "cells": [
    {
      "cell_type": "markdown",
      "metadata": {
        "id": "view-in-github",
        "colab_type": "text"
      },
      "source": [
        "<a href=\"https://colab.research.google.com/github/vsemwal/human-walking-activities/blob/master/Different_Speed_DNN.ipynb\" target=\"_parent\"><img src=\"https://colab.research.google.com/assets/colab-badge.svg\" alt=\"Open In Colab\"/></a>"
      ]
    },
    {
      "cell_type": "code",
      "metadata": {
        "id": "Wq8RSNu5Qv6I",
        "colab_type": "code",
        "colab": {}
      },
      "source": [
        "\n",
        "\n",
        "\n",
        "\n",
        "\n",
        "import numpy as np\n",
        "import pandas as pd\n",
        "import matplotlib.pyplot as plt\n",
        "%matplotlib inline\n",
        "import seaborn as sns"
      ],
      "execution_count": 0,
      "outputs": []
    },
    {
      "cell_type": "code",
      "metadata": {
        "id": "cq7sPN5WQv6L",
        "colab_type": "code",
        "colab": {},
        "outputId": "198f91a9-262a-4263-a9a1-e694b454294a"
      },
      "source": [
        "from scipy import stats\n",
        "\n",
        "from sklearn import metrics\n",
        "from sklearn.metrics import classification_report\n",
        "from sklearn import preprocessing\n",
        "\n",
        "import keras\n",
        "from keras.models import Sequential\n",
        "from keras.layers import Dense, Dropout, Flatten, Reshape\n",
        "from keras.layers import Conv1D, MaxPooling1D\n",
        "from keras.utils import np_utils\n",
        "from keras import regularizers"
      ],
      "execution_count": 0,
      "outputs": [
        {
          "output_type": "stream",
          "text": [
            "Using TensorFlow backend.\n"
          ],
          "name": "stderr"
        }
      ]
    },
    {
      "cell_type": "code",
      "metadata": {
        "id": "jzk1SJBIQv6O",
        "colab_type": "code",
        "colab": {}
      },
      "source": [
        "sns.set()\n",
        "plt.style.use('ggplot')"
      ],
      "execution_count": 0,
      "outputs": []
    },
    {
      "cell_type": "code",
      "metadata": {
        "id": "SGfun6KbQv6Q",
        "colab_type": "code",
        "colab": {}
      },
      "source": [
        "data = pd.read_csv(\"1,3,5,7mphnorwal walk.csv\")"
      ],
      "execution_count": 0,
      "outputs": []
    },
    {
      "cell_type": "code",
      "metadata": {
        "id": "morFg9oFQv6S",
        "colab_type": "code",
        "colab": {},
        "outputId": "435a2d9f-13b4-40f9-e29c-d71419936fc9"
      },
      "source": [
        "data.head(10)"
      ],
      "execution_count": 0,
      "outputs": [
        {
          "output_type": "execute_result",
          "data": {
            "text/html": [
              "<div>\n",
              "<style scoped>\n",
              "    .dataframe tbody tr th:only-of-type {\n",
              "        vertical-align: middle;\n",
              "    }\n",
              "\n",
              "    .dataframe tbody tr th {\n",
              "        vertical-align: top;\n",
              "    }\n",
              "\n",
              "    .dataframe thead th {\n",
              "        text-align: right;\n",
              "    }\n",
              "</style>\n",
              "<table border=\"1\" class=\"dataframe\">\n",
              "  <thead>\n",
              "    <tr style=\"text-align: right;\">\n",
              "      <th></th>\n",
              "      <th>jointType</th>\n",
              "      <th>depthX</th>\n",
              "      <th>depthY</th>\n",
              "      <th>colorX</th>\n",
              "      <th>colorY</th>\n",
              "      <th>cameraX</th>\n",
              "      <th>cameraY</th>\n",
              "      <th>cameraZ</th>\n",
              "      <th>orientationX</th>\n",
              "      <th>orientationY</th>\n",
              "      <th>orientationZ</th>\n",
              "      <th>orientationW</th>\n",
              "      <th>time</th>\n",
              "      <th>activity</th>\n",
              "      <th>sid</th>\n",
              "    </tr>\n",
              "  </thead>\n",
              "  <tbody>\n",
              "    <tr>\n",
              "      <th>0</th>\n",
              "      <td>0</td>\n",
              "      <td>0.632764</td>\n",
              "      <td>0.585317</td>\n",
              "      <td>0.607712</td>\n",
              "      <td>0.602342</td>\n",
              "      <td>0.389040</td>\n",
              "      <td>-0.249903</td>\n",
              "      <td>2.184664</td>\n",
              "      <td>-0.013381</td>\n",
              "      <td>0.982128</td>\n",
              "      <td>0.065891</td>\n",
              "      <td>-0.175798</td>\n",
              "      <td>67.0</td>\n",
              "      <td>1.0</td>\n",
              "      <td>0.0</td>\n",
              "    </tr>\n",
              "    <tr>\n",
              "      <th>1</th>\n",
              "      <td>1</td>\n",
              "      <td>0.629250</td>\n",
              "      <td>0.431639</td>\n",
              "      <td>0.603402</td>\n",
              "      <td>0.427327</td>\n",
              "      <td>0.387807</td>\n",
              "      <td>0.142325</td>\n",
              "      <td>2.237754</td>\n",
              "      <td>0.002097</td>\n",
              "      <td>0.996260</td>\n",
              "      <td>0.067203</td>\n",
              "      <td>0.054268</td>\n",
              "      <td>67.0</td>\n",
              "      <td>1.0</td>\n",
              "      <td>0.0</td>\n",
              "    </tr>\n",
              "    <tr>\n",
              "      <th>2</th>\n",
              "      <td>2</td>\n",
              "      <td>0.627228</td>\n",
              "      <td>0.289618</td>\n",
              "      <td>0.600105</td>\n",
              "      <td>0.266107</td>\n",
              "      <td>0.387825</td>\n",
              "      <td>0.519097</td>\n",
              "      <td>2.281877</td>\n",
              "      <td>0.014851</td>\n",
              "      <td>0.955451</td>\n",
              "      <td>0.044675</td>\n",
              "      <td>0.291370</td>\n",
              "      <td>67.0</td>\n",
              "      <td>1.0</td>\n",
              "      <td>0.0</td>\n",
              "    </tr>\n",
              "    <tr>\n",
              "      <th>3</th>\n",
              "      <td>3</td>\n",
              "      <td>0.652865</td>\n",
              "      <td>0.267710</td>\n",
              "      <td>0.619328</td>\n",
              "      <td>0.240958</td>\n",
              "      <td>0.480619</td>\n",
              "      <td>0.590595</td>\n",
              "      <td>2.339035</td>\n",
              "      <td>0.000000</td>\n",
              "      <td>0.000000</td>\n",
              "      <td>0.000000</td>\n",
              "      <td>0.000000</td>\n",
              "      <td>67.0</td>\n",
              "      <td>1.0</td>\n",
              "      <td>0.0</td>\n",
              "    </tr>\n",
              "    <tr>\n",
              "      <th>4</th>\n",
              "      <td>4</td>\n",
              "      <td>0.599162</td>\n",
              "      <td>0.327201</td>\n",
              "      <td>0.579418</td>\n",
              "      <td>0.309074</td>\n",
              "      <td>0.285866</td>\n",
              "      <td>0.402272</td>\n",
              "      <td>2.181561</td>\n",
              "      <td>0.732545</td>\n",
              "      <td>-0.582669</td>\n",
              "      <td>0.226117</td>\n",
              "      <td>-0.269716</td>\n",
              "      <td>67.0</td>\n",
              "      <td>1.0</td>\n",
              "      <td>0.0</td>\n",
              "    </tr>\n",
              "    <tr>\n",
              "      <th>5</th>\n",
              "      <td>5</td>\n",
              "      <td>0.607448</td>\n",
              "      <td>0.383479</td>\n",
              "      <td>0.588015</td>\n",
              "      <td>0.372856</td>\n",
              "      <td>0.278177</td>\n",
              "      <td>0.232619</td>\n",
              "      <td>1.948169</td>\n",
              "      <td>0.864103</td>\n",
              "      <td>0.096156</td>\n",
              "      <td>-0.217281</td>\n",
              "      <td>-0.443700</td>\n",
              "      <td>67.0</td>\n",
              "      <td>1.0</td>\n",
              "      <td>0.0</td>\n",
              "    </tr>\n",
              "    <tr>\n",
              "      <th>6</th>\n",
              "      <td>6</td>\n",
              "      <td>0.680003</td>\n",
              "      <td>0.382112</td>\n",
              "      <td>0.645399</td>\n",
              "      <td>0.370257</td>\n",
              "      <td>0.434405</td>\n",
              "      <td>0.215129</td>\n",
              "      <td>1.782735</td>\n",
              "      <td>0.705689</td>\n",
              "      <td>0.583907</td>\n",
              "      <td>-0.200805</td>\n",
              "      <td>-0.347467</td>\n",
              "      <td>67.0</td>\n",
              "      <td>1.0</td>\n",
              "      <td>0.0</td>\n",
              "    </tr>\n",
              "    <tr>\n",
              "      <th>7</th>\n",
              "      <td>7</td>\n",
              "      <td>0.689147</td>\n",
              "      <td>0.380264</td>\n",
              "      <td>0.652529</td>\n",
              "      <td>0.368030</td>\n",
              "      <td>0.454080</td>\n",
              "      <td>0.217461</td>\n",
              "      <td>1.771405</td>\n",
              "      <td>0.662416</td>\n",
              "      <td>0.691619</td>\n",
              "      <td>-0.100483</td>\n",
              "      <td>-0.269760</td>\n",
              "      <td>67.0</td>\n",
              "      <td>1.0</td>\n",
              "      <td>0.0</td>\n",
              "    </tr>\n",
              "    <tr>\n",
              "      <th>8</th>\n",
              "      <td>8</td>\n",
              "      <td>0.647253</td>\n",
              "      <td>0.325373</td>\n",
              "      <td>0.615782</td>\n",
              "      <td>0.306334</td>\n",
              "      <td>0.457578</td>\n",
              "      <td>0.430487</td>\n",
              "      <td>2.311362</td>\n",
              "      <td>0.658763</td>\n",
              "      <td>0.709686</td>\n",
              "      <td>0.205329</td>\n",
              "      <td>0.142185</td>\n",
              "      <td>67.0</td>\n",
              "      <td>1.0</td>\n",
              "      <td>0.0</td>\n",
              "    </tr>\n",
              "    <tr>\n",
              "      <th>9</th>\n",
              "      <td>9</td>\n",
              "      <td>0.594062</td>\n",
              "      <td>0.409911</td>\n",
              "      <td>0.574839</td>\n",
              "      <td>0.403139</td>\n",
              "      <td>0.304120</td>\n",
              "      <td>0.217628</td>\n",
              "      <td>2.449216</td>\n",
              "      <td>0.488150</td>\n",
              "      <td>0.066179</td>\n",
              "      <td>0.787886</td>\n",
              "      <td>0.369548</td>\n",
              "      <td>67.0</td>\n",
              "      <td>1.0</td>\n",
              "      <td>0.0</td>\n",
              "    </tr>\n",
              "  </tbody>\n",
              "</table>\n",
              "</div>"
            ],
            "text/plain": [
              "   jointType    depthX    depthY    colorX    colorY   cameraX   cameraY  \\\n",
              "0          0  0.632764  0.585317  0.607712  0.602342  0.389040 -0.249903   \n",
              "1          1  0.629250  0.431639  0.603402  0.427327  0.387807  0.142325   \n",
              "2          2  0.627228  0.289618  0.600105  0.266107  0.387825  0.519097   \n",
              "3          3  0.652865  0.267710  0.619328  0.240958  0.480619  0.590595   \n",
              "4          4  0.599162  0.327201  0.579418  0.309074  0.285866  0.402272   \n",
              "5          5  0.607448  0.383479  0.588015  0.372856  0.278177  0.232619   \n",
              "6          6  0.680003  0.382112  0.645399  0.370257  0.434405  0.215129   \n",
              "7          7  0.689147  0.380264  0.652529  0.368030  0.454080  0.217461   \n",
              "8          8  0.647253  0.325373  0.615782  0.306334  0.457578  0.430487   \n",
              "9          9  0.594062  0.409911  0.574839  0.403139  0.304120  0.217628   \n",
              "\n",
              "    cameraZ  orientationX  orientationY  orientationZ  orientationW  time  \\\n",
              "0  2.184664     -0.013381      0.982128      0.065891     -0.175798  67.0   \n",
              "1  2.237754      0.002097      0.996260      0.067203      0.054268  67.0   \n",
              "2  2.281877      0.014851      0.955451      0.044675      0.291370  67.0   \n",
              "3  2.339035      0.000000      0.000000      0.000000      0.000000  67.0   \n",
              "4  2.181561      0.732545     -0.582669      0.226117     -0.269716  67.0   \n",
              "5  1.948169      0.864103      0.096156     -0.217281     -0.443700  67.0   \n",
              "6  1.782735      0.705689      0.583907     -0.200805     -0.347467  67.0   \n",
              "7  1.771405      0.662416      0.691619     -0.100483     -0.269760  67.0   \n",
              "8  2.311362      0.658763      0.709686      0.205329      0.142185  67.0   \n",
              "9  2.449216      0.488150      0.066179      0.787886      0.369548  67.0   \n",
              "\n",
              "   activity  sid  \n",
              "0       1.0  0.0  \n",
              "1       1.0  0.0  \n",
              "2       1.0  0.0  \n",
              "3       1.0  0.0  \n",
              "4       1.0  0.0  \n",
              "5       1.0  0.0  \n",
              "6       1.0  0.0  \n",
              "7       1.0  0.0  \n",
              "8       1.0  0.0  \n",
              "9       1.0  0.0  "
            ]
          },
          "metadata": {
            "tags": []
          },
          "execution_count": 5
        }
      ]
    },
    {
      "cell_type": "code",
      "metadata": {
        "id": "IXh3YvB5Qv6V",
        "colab_type": "code",
        "colab": {},
        "outputId": "5b3bf78b-7bfb-4bba-89ae-5aed783a3576"
      },
      "source": [
        "data.info()"
      ],
      "execution_count": 0,
      "outputs": [
        {
          "output_type": "stream",
          "text": [
            "<class 'pandas.core.frame.DataFrame'>\n",
            "RangeIndex: 2266783 entries, 0 to 2266782\n",
            "Data columns (total 15 columns):\n",
            "jointType       int64\n",
            "depthX          float64\n",
            "depthY          float64\n",
            "colorX          float64\n",
            "colorY          float64\n",
            "cameraX         float64\n",
            "cameraY         float64\n",
            "cameraZ         float64\n",
            "orientationX    float64\n",
            "orientationY    float64\n",
            "orientationZ    float64\n",
            "orientationW    float64\n",
            "time            float64\n",
            "activity        float64\n",
            "sid             float64\n",
            "dtypes: float64(14), int64(1)\n",
            "memory usage: 259.4 MB\n"
          ],
          "name": "stdout"
        }
      ]
    },
    {
      "cell_type": "code",
      "metadata": {
        "id": "eaTvjP_pQv6X",
        "colab_type": "code",
        "colab": {},
        "outputId": "4b873535-690a-41bc-c946-a124f5ef70d0"
      },
      "source": [
        "data['activity'].value_counts().plot(kind = 'bar', title = \"Activities\")\n",
        "plt.plot()"
      ],
      "execution_count": 0,
      "outputs": [
        {
          "output_type": "execute_result",
          "data": {
            "text/plain": [
              "[]"
            ]
          },
          "metadata": {
            "tags": []
          },
          "execution_count": 7
        },
        {
          "output_type": "display_data",
          "data": {
            "image/png": "[encoded data removed]",
            "text/plain": [
              "<Figure size 432x288 with 1 Axes>"
            ]
          },
          "metadata": {
            "tags": []
          }
        }
      ]
    },
    {
      "cell_type": "code",
      "metadata": {
        "id": "mb-NQf58Qv6a",
        "colab_type": "code",
        "colab": {},
        "outputId": "ca13cacc-3972-41c1-aebe-1097179ad01e"
      },
      "source": [
        "plt.figure(figsize = (10, 6))\n",
        "plt.plot(data[(data['sid'] == 0.0) & (data['activity'] == 1.0) & (data['jointType'] == 1)]['time'], data[(data['sid'] == 0.0) & (data['activity'] == 1.0) & (data['jointType'] == 1)]['depthX'])\n",
        "plt.plot(data[(data['sid'] == 0.0) & (data['activity'] == 1.0) & (data['jointType'] == 1)]['time'], data[(data['sid'] == 0.0) & (data['activity'] == 1.0) & (data['jointType'] == 1)]['depthY'])\n",
        "# plt.plot(data[(data['sid'] == 0.0) & (data['activity'] == 1.0) & (data['jointType'] == 0)]['time'], data[(data['sid'] == 0.0) & (data['activity'] == 1.0) & (data['jointType'] == 0)]['orientationZ'])\n",
        "# plt.plot(data[(data['sid'] == 0.0) & (data['activity'] == 1.0) & (data['jointType'] == 0)]['time'], data[(data['sid'] == 0.0) & (data['activity'] == 1.0) & (data['jointType'] == 0)]['orientationW'])\n",
        "plt.legend(['depthX', 'depthY'])#, 'orientationZ', 'orientationW'])"
      ],
      "execution_count": 0,
      "outputs": [
        {
          "output_type": "execute_result",
          "data": {
            "text/plain": [
              "<matplotlib.legend.Legend at 0x2638013ffd0>"
            ]
          },
          "metadata": {
            "tags": []
          },
          "execution_count": 8
        },
        {
          "output_type": "display_data",
          "data": {
            "image/png": "[encoded data removed]",
            "text/plain": [
              "<Figure size 720x432 with 1 Axes>"
            ]
          },
          "metadata": {
            "tags": []
          }
        }
      ]
    },
    {
      "cell_type": "code",
      "metadata": {
        "id": "xfejE3rAQv6c",
        "colab_type": "code",
        "colab": {},
        "outputId": "db831f40-8a9e-4fbc-f272-cac9394180e1"
      },
      "source": [
        "data.columns"
      ],
      "execution_count": 0,
      "outputs": [
        {
          "output_type": "execute_result",
          "data": {
            "text/plain": [
              "Index(['jointType', 'depthX', 'depthY', 'colorX', 'colorY', 'cameraX',\n",
              "       'cameraY', 'cameraZ', 'orientationX', 'orientationY', 'orientationZ',\n",
              "       'orientationW', 'time', 'activity', 'sid'],\n",
              "      dtype='object')"
            ]
          },
          "metadata": {
            "tags": []
          },
          "execution_count": 9
        }
      ]
    },
    {
      "cell_type": "code",
      "metadata": {
        "id": "o79jKlHXQv6d",
        "colab_type": "code",
        "colab": {},
        "outputId": "59fdf34a-4d95-4471-bb61-bec2f04d1a5d"
      },
      "source": [
        "col = ['jointType', 'depthX', 'depthY', 'time', 'activity', 'sid']\n",
        "use_data = data[col].copy()\n",
        "use_data['activity'] = use_data['activity'].map({1:0, 3:1, 5:2, 7:3})\n",
        "use_data.head()"
      ],
      "execution_count": 0,
      "outputs": [
        {
          "output_type": "execute_result",
          "data": {
            "text/html": [
              "<div>\n",
              "<style scoped>\n",
              "    .dataframe tbody tr th:only-of-type {\n",
              "        vertical-align: middle;\n",
              "    }\n",
              "\n",
              "    .dataframe tbody tr th {\n",
              "        vertical-align: top;\n",
              "    }\n",
              "\n",
              "    .dataframe thead th {\n",
              "        text-align: right;\n",
              "    }\n",
              "</style>\n",
              "<table border=\"1\" class=\"dataframe\">\n",
              "  <thead>\n",
              "    <tr style=\"text-align: right;\">\n",
              "      <th></th>\n",
              "      <th>jointType</th>\n",
              "      <th>depthX</th>\n",
              "      <th>depthY</th>\n",
              "      <th>time</th>\n",
              "      <th>activity</th>\n",
              "      <th>sid</th>\n",
              "    </tr>\n",
              "  </thead>\n",
              "  <tbody>\n",
              "    <tr>\n",
              "      <th>0</th>\n",
              "      <td>0</td>\n",
              "      <td>0.632764</td>\n",
              "      <td>0.585317</td>\n",
              "      <td>67.0</td>\n",
              "      <td>0.0</td>\n",
              "      <td>0.0</td>\n",
              "    </tr>\n",
              "    <tr>\n",
              "      <th>1</th>\n",
              "      <td>1</td>\n",
              "      <td>0.629250</td>\n",
              "      <td>0.431639</td>\n",
              "      <td>67.0</td>\n",
              "      <td>0.0</td>\n",
              "      <td>0.0</td>\n",
              "    </tr>\n",
              "    <tr>\n",
              "      <th>2</th>\n",
              "      <td>2</td>\n",
              "      <td>0.627228</td>\n",
              "      <td>0.289618</td>\n",
              "      <td>67.0</td>\n",
              "      <td>0.0</td>\n",
              "      <td>0.0</td>\n",
              "    </tr>\n",
              "    <tr>\n",
              "      <th>3</th>\n",
              "      <td>3</td>\n",
              "      <td>0.652865</td>\n",
              "      <td>0.267710</td>\n",
              "      <td>67.0</td>\n",
              "      <td>0.0</td>\n",
              "      <td>0.0</td>\n",
              "    </tr>\n",
              "    <tr>\n",
              "      <th>4</th>\n",
              "      <td>4</td>\n",
              "      <td>0.599162</td>\n",
              "      <td>0.327201</td>\n",
              "      <td>67.0</td>\n",
              "      <td>0.0</td>\n",
              "      <td>0.0</td>\n",
              "    </tr>\n",
              "  </tbody>\n",
              "</table>\n",
              "</div>"
            ],
            "text/plain": [
              "   jointType    depthX    depthY  time  activity  sid\n",
              "0          0  0.632764  0.585317  67.0       0.0  0.0\n",
              "1          1  0.629250  0.431639  67.0       0.0  0.0\n",
              "2          2  0.627228  0.289618  67.0       0.0  0.0\n",
              "3          3  0.652865  0.267710  67.0       0.0  0.0\n",
              "4          4  0.599162  0.327201  67.0       0.0  0.0"
            ]
          },
          "metadata": {
            "tags": []
          },
          "execution_count": 10
        }
      ]
    },
    {
      "cell_type": "code",
      "metadata": {
        "id": "s9T4-Io9Qv6f",
        "colab_type": "code",
        "colab": {}
      },
      "source": [
        "use_data = use_data.groupby(['jointType', 'activity', 'sid', 'time'], as_index = False)[['depthX', 'depthY']].mean()"
      ],
      "execution_count": 0,
      "outputs": []
    },
    {
      "cell_type": "code",
      "metadata": {
        "id": "EV4to3voQv6h",
        "colab_type": "code",
        "colab": {},
        "outputId": "7825073f-68d6-4665-d069-c4bc82079d70"
      },
      "source": [
        "use_data.info()"
      ],
      "execution_count": 0,
      "outputs": [
        {
          "output_type": "stream",
          "text": [
            "<class 'pandas.core.frame.DataFrame'>\n",
            "Int64Index: 959575 entries, 0 to 959574\n",
            "Data columns (total 6 columns):\n",
            "jointType    959575 non-null int64\n",
            "activity     959575 non-null float64\n",
            "sid          959575 non-null float64\n",
            "time         959575 non-null float64\n",
            "depthX       959575 non-null float64\n",
            "depthY       959575 non-null float64\n",
            "dtypes: float64(5), int64(1)\n",
            "memory usage: 51.2 MB\n"
          ],
          "name": "stdout"
        }
      ]
    },
    {
      "cell_type": "code",
      "metadata": {
        "id": "hssEzbolQv6j",
        "colab_type": "code",
        "colab": {},
        "outputId": "1e66b3a6-c0c5-41fc-de59-308562151f0f"
      },
      "source": [
        "use_data.head(10)"
      ],
      "execution_count": 0,
      "outputs": [
        {
          "output_type": "execute_result",
          "data": {
            "text/html": [
              "<div>\n",
              "<style scoped>\n",
              "    .dataframe tbody tr th:only-of-type {\n",
              "        vertical-align: middle;\n",
              "    }\n",
              "\n",
              "    .dataframe tbody tr th {\n",
              "        vertical-align: top;\n",
              "    }\n",
              "\n",
              "    .dataframe thead th {\n",
              "        text-align: right;\n",
              "    }\n",
              "</style>\n",
              "<table border=\"1\" class=\"dataframe\">\n",
              "  <thead>\n",
              "    <tr style=\"text-align: right;\">\n",
              "      <th></th>\n",
              "      <th>jointType</th>\n",
              "      <th>activity</th>\n",
              "      <th>sid</th>\n",
              "      <th>time</th>\n",
              "      <th>depthX</th>\n",
              "      <th>depthY</th>\n",
              "    </tr>\n",
              "  </thead>\n",
              "  <tbody>\n",
              "    <tr>\n",
              "      <th>0</th>\n",
              "      <td>0</td>\n",
              "      <td>0.0</td>\n",
              "      <td>0.0</td>\n",
              "      <td>30.0</td>\n",
              "      <td>0.632791</td>\n",
              "      <td>0.584554</td>\n",
              "    </tr>\n",
              "    <tr>\n",
              "      <th>1</th>\n",
              "      <td>0</td>\n",
              "      <td>0.0</td>\n",
              "      <td>0.0</td>\n",
              "      <td>67.0</td>\n",
              "      <td>0.632764</td>\n",
              "      <td>0.585317</td>\n",
              "    </tr>\n",
              "    <tr>\n",
              "      <th>2</th>\n",
              "      <td>0</td>\n",
              "      <td>0.0</td>\n",
              "      <td>0.0</td>\n",
              "      <td>103.0</td>\n",
              "      <td>0.631359</td>\n",
              "      <td>0.586576</td>\n",
              "    </tr>\n",
              "    <tr>\n",
              "      <th>3</th>\n",
              "      <td>0</td>\n",
              "      <td>0.0</td>\n",
              "      <td>0.0</td>\n",
              "      <td>145.0</td>\n",
              "      <td>0.628691</td>\n",
              "      <td>0.587546</td>\n",
              "    </tr>\n",
              "    <tr>\n",
              "      <th>4</th>\n",
              "      <td>0</td>\n",
              "      <td>0.0</td>\n",
              "      <td>0.0</td>\n",
              "      <td>183.0</td>\n",
              "      <td>0.620062</td>\n",
              "      <td>0.587712</td>\n",
              "    </tr>\n",
              "    <tr>\n",
              "      <th>5</th>\n",
              "      <td>0</td>\n",
              "      <td>0.0</td>\n",
              "      <td>0.0</td>\n",
              "      <td>222.0</td>\n",
              "      <td>0.614487</td>\n",
              "      <td>0.582819</td>\n",
              "    </tr>\n",
              "    <tr>\n",
              "      <th>6</th>\n",
              "      <td>0</td>\n",
              "      <td>0.0</td>\n",
              "      <td>0.0</td>\n",
              "      <td>257.0</td>\n",
              "      <td>0.613724</td>\n",
              "      <td>0.581864</td>\n",
              "    </tr>\n",
              "    <tr>\n",
              "      <th>7</th>\n",
              "      <td>0</td>\n",
              "      <td>0.0</td>\n",
              "      <td>0.0</td>\n",
              "      <td>294.0</td>\n",
              "      <td>0.612480</td>\n",
              "      <td>0.580207</td>\n",
              "    </tr>\n",
              "    <tr>\n",
              "      <th>8</th>\n",
              "      <td>0</td>\n",
              "      <td>0.0</td>\n",
              "      <td>0.0</td>\n",
              "      <td>329.0</td>\n",
              "      <td>0.613446</td>\n",
              "      <td>0.584220</td>\n",
              "    </tr>\n",
              "    <tr>\n",
              "      <th>9</th>\n",
              "      <td>0</td>\n",
              "      <td>0.0</td>\n",
              "      <td>0.0</td>\n",
              "      <td>365.0</td>\n",
              "      <td>0.615885</td>\n",
              "      <td>0.582352</td>\n",
              "    </tr>\n",
              "  </tbody>\n",
              "</table>\n",
              "</div>"
            ],
            "text/plain": [
              "   jointType  activity  sid   time    depthX    depthY\n",
              "0          0       0.0  0.0   30.0  0.632791  0.584554\n",
              "1          0       0.0  0.0   67.0  0.632764  0.585317\n",
              "2          0       0.0  0.0  103.0  0.631359  0.586576\n",
              "3          0       0.0  0.0  145.0  0.628691  0.587546\n",
              "4          0       0.0  0.0  183.0  0.620062  0.587712\n",
              "5          0       0.0  0.0  222.0  0.614487  0.582819\n",
              "6          0       0.0  0.0  257.0  0.613724  0.581864\n",
              "7          0       0.0  0.0  294.0  0.612480  0.580207\n",
              "8          0       0.0  0.0  329.0  0.613446  0.584220\n",
              "9          0       0.0  0.0  365.0  0.615885  0.582352"
            ]
          },
          "metadata": {
            "tags": []
          },
          "execution_count": 13
        }
      ]
    },
    {
      "cell_type": "code",
      "metadata": {
        "id": "Fyx6j0pjQv6l",
        "colab_type": "code",
        "colab": {},
        "outputId": "903bdc18-ffb2-4a0f-9451-1aa46fb2f6b0"
      },
      "source": [
        "plt.figure(figsize = (10, 6))\n",
        "plt.plot(use_data[(use_data['jointType'] == 0) & (use_data['activity'] == 3) & (use_data['sid'] == 0)]['time'], use_data[(use_data['jointType'] == 0) & (use_data['activity'] == 3) & (use_data['sid'] == 0)]['depthX'])\n",
        "plt.plot(use_data[(use_data['jointType'] == 0) & (use_data['activity'] == 3) & (use_data['sid'] == 0)]['time'], use_data[(use_data['jointType'] == 0) & (use_data['activity'] == 3) & (use_data['sid'] == 0)]['depthY'])\n",
        "plt.legend(['depthX', 'depthY'])"
      ],
      "execution_count": 0,
      "outputs": [
        {
          "output_type": "execute_result",
          "data": {
            "text/plain": [
              "<matplotlib.legend.Legend at 0x263802f63c8>"
            ]
          },
          "metadata": {
            "tags": []
          },
          "execution_count": 14
        },
        {
          "output_type": "display_data",
          "data": {
            "image/png": "[encoded data removed]",
            "text/plain": [
              "<Figure size 720x432 with 1 Axes>"
            ]
          },
          "metadata": {
            "tags": []
          }
        }
      ]
    },
    {
      "cell_type": "code",
      "metadata": {
        "id": "vG14OjAFQv6n",
        "colab_type": "code",
        "colab": {}
      },
      "source": [
        "train_data = use_data[use_data['sid'] <= 10]\n",
        "test_data = use_data[use_data['sid'] > 10]"
      ],
      "execution_count": 0,
      "outputs": []
    },
    {
      "cell_type": "code",
      "metadata": {
        "id": "0583H-NSQv6p",
        "colab_type": "code",
        "colab": {}
      },
      "source": [
        "def create_segments_and_labels(df, time_steps, steps):\n",
        "    n_features = 3\n",
        "    segments = []\n",
        "    labels = []\n",
        "    for i in range(0, len(df) - time_steps, steps):\n",
        "        x = df['jointType'].values[i: i + time_steps]\n",
        "        y = df['depthX'].values[i: i + time_steps]\n",
        "        z = df['depthY'].values[i: i + time_steps]\n",
        "\n",
        "        label = stats.mode(df['activity'][i: i + time_steps])[0][0]\n",
        "        segments.append([x, y, z])\n",
        "        labels.append(label)\n",
        "    reshaped_segments = np.asarray(segments, dtype = np.float32).reshape(-1, time_steps, n_features)\n",
        "    labels = np.asarray(labels)\n",
        "    \n",
        "    return reshaped_segments, labels"
      ],
      "execution_count": 0,
      "outputs": []
    },
    {
      "cell_type": "code",
      "metadata": {
        "id": "8w9wyL2wQv6r",
        "colab_type": "code",
        "colab": {}
      },
      "source": [
        "X_train, Y_train = create_segments_and_labels(train_data, 80, 80)"
      ],
      "execution_count": 0,
      "outputs": []
    },
    {
      "cell_type": "code",
      "metadata": {
        "id": "waol3rBaQv6t",
        "colab_type": "code",
        "colab": {},
        "outputId": "a15d72ae-a36c-4685-c5a9-a7b87717a974"
      },
      "source": [
        "print('X_train shape: ', X_train.shape)\n",
        "print(X_train.shape[0], 'training samples')\n",
        "print('Y_train shape: ', Y_train.shape)"
      ],
      "execution_count": 0,
      "outputs": [
        {
          "output_type": "stream",
          "text": [
            "X_train shape:  (8213, 80, 3)\n",
            "8213 training samples\n",
            "Y_train shape:  (8213,)\n"
          ],
          "name": "stdout"
        }
      ]
    },
    {
      "cell_type": "code",
      "metadata": {
        "id": "aWlIPjO5Qv6v",
        "colab_type": "code",
        "colab": {},
        "outputId": "957030ee-f4c6-4791-f9c6-7ec22126c3b8"
      },
      "source": [
        "n_timesteps, n_features = X_train.shape[1], X_train.shape[2]\n",
        "print(\"n_timesteps: \", n_timesteps)\n",
        "print(\"n_features: \", n_features)"
      ],
      "execution_count": 0,
      "outputs": [
        {
          "output_type": "stream",
          "text": [
            "n_timesteps:  80\n",
            "n_features:  3\n"
          ],
          "name": "stdout"
        }
      ]
    },
    {
      "cell_type": "code",
      "metadata": {
        "id": "0_hqxcycQv6x",
        "colab_type": "code",
        "colab": {}
      },
      "source": [
        "Y_train = np_utils.to_categorical(Y_train, 4)"
      ],
      "execution_count": 0,
      "outputs": []
    },
    {
      "cell_type": "code",
      "metadata": {
        "id": "dsEujoVSQv6y",
        "colab_type": "code",
        "colab": {},
        "outputId": "6312f9b1-3e01-437b-aa89-7edf93c61c37"
      },
      "source": [
        "print(\"Y_train shape: \", Y_train.shape)"
      ],
      "execution_count": 0,
      "outputs": [
        {
          "output_type": "stream",
          "text": [
            "Y_train shape:  (8213, 4)\n"
          ],
          "name": "stdout"
        }
      ]
    },
    {
      "cell_type": "code",
      "metadata": {
        "id": "R7Ye6Z7_Qv60",
        "colab_type": "code",
        "colab": {}
      },
      "source": [
        "n_outputs = Y_train.shape[1]"
      ],
      "execution_count": 0,
      "outputs": []
    },
    {
      "cell_type": "code",
      "metadata": {
        "id": "Dq8des86Qv61",
        "colab_type": "code",
        "colab": {},
        "outputId": "62835755-8585-4d3b-c751-f480df7d759e"
      },
      "source": [
        "model = Sequential()\n",
        "model.add(Conv1D(filters = 128, kernel_size = 5, activation = 'relu', input_shape = (n_timesteps, n_features)))\n",
        "model.add(Conv1D(filters = 128, kernel_size = 5, activation = 'relu'))\n",
        "model.add(MaxPooling1D(pool_size = 3))\n",
        "model.add(Flatten())\n",
        "model.add(Dense(1000, activation = 'relu'))\n",
        "model.add(Dense(100, activation = 'relu'))\n",
        "model.add(Dense(n_outputs, activation = 'softmax'))\n",
        "print(model.summary())"
      ],
      "execution_count": 0,
      "outputs": [
        {
          "output_type": "stream",
          "text": [
            "Model: \"sequential_2\"\n",
            "_________________________________________________________________\n",
            "Layer (type)                 Output Shape              Param #   \n",
            "=================================================================\n",
            "conv1d_3 (Conv1D)            (None, 76, 128)           2048      \n",
            "_________________________________________________________________\n",
            "conv1d_4 (Conv1D)            (None, 72, 128)           82048     \n",
            "_________________________________________________________________\n",
            "max_pooling1d_2 (MaxPooling1 (None, 24, 128)           0         \n",
            "_________________________________________________________________\n",
            "flatten_2 (Flatten)          (None, 3072)              0         \n",
            "_________________________________________________________________\n",
            "dense_4 (Dense)              (None, 1000)              3073000   \n",
            "_________________________________________________________________\n",
            "dense_5 (Dense)              (None, 100)               100100    \n",
            "_________________________________________________________________\n",
            "dense_6 (Dense)              (None, 4)                 404       \n",
            "=================================================================\n",
            "Total params: 3,257,600\n",
            "Trainable params: 3,257,600\n",
            "Non-trainable params: 0\n",
            "_________________________________________________________________\n",
            "None\n"
          ],
          "name": "stdout"
        }
      ]
    },
    {
      "cell_type": "code",
      "metadata": {
        "id": "t5R0SyJ-Qv63",
        "colab_type": "code",
        "colab": {},
        "outputId": "eb5e0c6c-1376-4b6f-e4da-d3c634e6f099"
      },
      "source": [
        "model.compile(loss = 'categorical_crossentropy', optimizer = 'adam', metrics = ['accuracy'])\n",
        "history = model.fit(X_train, Y_train, epochs = 10)"
      ],
      "execution_count": 0,
      "outputs": [
        {
          "output_type": "stream",
          "text": [
            "Epoch 1/10\n",
            "8213/8213 [==============================] - 32s 4ms/step - loss: 1.4063 - accuracy: 0.2563\n",
            "Epoch 2/10\n",
            "8213/8213 [==============================] - 31s 4ms/step - loss: 1.3862 - accuracy: 0.2579\n",
            "Epoch 3/10\n",
            "8213/8213 [==============================] - 31s 4ms/step - loss: 1.3863 - accuracy: 0.2541\n",
            "Epoch 4/10\n",
            "8213/8213 [==============================] - 30s 4ms/step - loss: 1.3862 - accuracy: 0.2589\n",
            "Epoch 5/10\n",
            "8213/8213 [==============================] - 30s 4ms/step - loss: 1.3863 - accuracy: 0.2589\n",
            "Epoch 6/10\n",
            "8213/8213 [==============================] - 30s 4ms/step - loss: 1.3862 - accuracy: 0.2589\n",
            "Epoch 7/10\n",
            "8213/8213 [==============================] - 30s 4ms/step - loss: 1.3863 - accuracy: 0.2589\n",
            "Epoch 8/10\n",
            "8213/8213 [==============================] - 30s 4ms/step - loss: 1.3863 - accuracy: 0.2589\n",
            "Epoch 9/10\n",
            "8213/8213 [==============================] - 30s 4ms/step - loss: 1.3862 - accuracy: 0.2589\n",
            "Epoch 10/10\n",
            "8213/8213 [==============================] - 30s 4ms/step - loss: 1.3862 - accuracy: 0.2589\n"
          ],
          "name": "stdout"
        }
      ]
    },
    {
      "cell_type": "code",
      "metadata": {
        "id": "Dv5t-a5JQv65",
        "colab_type": "code",
        "colab": {}
      },
      "source": [
        ""
      ],
      "execution_count": 0,
      "outputs": []
    }
  ]
}