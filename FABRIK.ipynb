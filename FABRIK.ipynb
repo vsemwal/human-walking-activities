{
  "nbformat": 4,
  "nbformat_minor": 0,
  "metadata": {
    "colab": {
      "name": "FABRIK.ipynb",
      "provenance": [],
      "include_colab_link": true
    },
    "kernelspec": {
      "name": "python3",
      "display_name": "Python 3"
    }
  },
  "cells": [
    {
      "cell_type": "markdown",
      "metadata": {
        "id": "view-in-github",
        "colab_type": "text"
      },
      "source": [
        "<a href=\"https://colab.research.google.com/github/vsemwal/human-walking-activities/blob/master/FABRIK.ipynb\" target=\"_parent\"><img src=\"https://colab.research.google.com/assets/colab-badge.svg\" alt=\"Open In Colab\"/></a>"
      ]
    },
    {
      "cell_type": "code",
      "metadata": {
        "id": "M5zqSY6h-EK7"
      },
      "source": [
        "import math as m\n",
        "import sys\n",
        "import matplotlib.pyplot as plt \n",
        "import numpy"
      ],
      "execution_count": null,
      "outputs": []
    },
    {
      "cell_type": "code",
      "metadata": {
        "id": "dkUEZ9aO9pVI"
      },
      "source": [
        "link_length = 2\n",
        "start = [0,0]"
      ],
      "execution_count": null,
      "outputs": []
    },
    {
      "cell_type": "code",
      "metadata": {
        "id": "KMWbN3paiDul"
      },
      "source": [
        "def distance(p1, p2):\n",
        "    x = float(p2[0] - p1[0])\n",
        "    y = float(p2[1] - p1[1])\n",
        "    u = min(x, y)\n",
        "    v = max(x, y)\n",
        "    temp = float(\"inf\") if v == 0 else u/v\n",
        "    return abs(v) * m.sqrt(1 + temp**2)\n",
        "\n",
        "def isValidGoal(goal):\n",
        "  reachable = distance(start, goal)\n",
        "  if(reachable <= no_of_links*link_length):\n",
        "    return True\n",
        "  return False"
      ],
      "execution_count": null,
      "outputs": []
    },
    {
      "cell_type": "code",
      "metadata": {
        "id": "9q84pa2sVZaj"
      },
      "source": [
        "def newPoint(P, Q):\n",
        "  mag = link_length / m.sqrt((P[0]-Q[0])**2 + (P[1]-Q[1])**2)\n",
        "  point = [(Q[0]-P[0])*mag + P[0], (Q[1]-P[1])*mag + P[1]]\n",
        "  point = [round(num, 2) for num in point]\n",
        "  #print(point)\n",
        "  return point\n",
        "\n",
        "def backward(listPoints):\n",
        "  size = len(listPoints)\n",
        "  listPoints[size-1] = goal\n",
        "  for i in range(size-2, -1, -1) :\n",
        "    listPoints[i] = newPoint(listPoints[i+1], listPoints[i])\n",
        "  return listPoints\n",
        "\n",
        "def forward(listPoints):\n",
        "  size = len(listPoints)\n",
        "  listPoints[0] = start\n",
        "  for i in range(1, size):\n",
        "    listPoints[i] = newPoint(listPoints[i-1], listPoints[i])\n",
        "  return listPoints\n",
        "\n",
        "#print(backward([[0, 0], [1.41, 1.41], [1.93, 3.35]]))\n",
        "##print(forward([[-0.82, -0.82], [0.59, 0.59], [2, 2]]))\n",
        "##print(forward(backward([[0, 0], [1.4142135623730951, 1.4142135623730951], [2.8284271247461903, 2.8284271247461903]])))"
      ],
      "execution_count": null,
      "outputs": []
    },
    {
      "cell_type": "code",
      "metadata": {
        "id": "5uS66I1QF-a5"
      },
      "source": [
        "def forwardKinematics(no_of_links, jointAngle) :\n",
        "    listPoints = [start]\n",
        "    for i in range(1,no_of_links+1):\n",
        "      angle = 0\n",
        "      for j in range(0,i) :\n",
        "        angle = angle + jointAngle[j]\n",
        "      p = [listPoints[i-1][0] + link_length*m.cos(angle), listPoints[i-1][1] + link_length*m.sin(angle)]\n",
        "      p = [round(x,2) for x in p]\n",
        "      listPoints.append(p)\n",
        "    return listPoints\n",
        "#print(forwardKinematics(2, [m.radians(i) for i in [35, 30]]))"
      ],
      "execution_count": null,
      "outputs": []
    },
    {
      "cell_type": "code",
      "metadata": {
        "id": "jZS9bUI9kFxv",
        "outputId": "9b713878-9a18-4961-c2d0-69fb4ad61238",
        "colab": {
          "base_uri": "https://localhost:8080/",
          "height": 208
        }
      },
      "source": [
        "def newLinkPosition(listPoints):\n",
        "  size = len(listPoints)\n",
        "  count = 0\n",
        "  while distance(goal, listPoints[size-1]) > 0.001:\n",
        "    listPoints = forward(backward(listPoints))\n",
        "    count += 1\n",
        "  return listPoints, count\n",
        "\n",
        "no_of_links = int(input(\"Enter number of Links : \"))\n",
        "jointAngle = []\n",
        "for i in range(0,no_of_links):\n",
        "    jointAngle.append(m.radians(float(input(\"Enter Joint Angle : \"))))\n",
        "listPoints = forwardKinematics(no_of_links, jointAngle)\n",
        "\n",
        "goal[0] = float(input(\"Enter x co-ordinate of Goal point : \"))\n",
        "goal[1] = float(input(\"Enter y co-ordinate of Goal point : \"))\n",
        "\n",
        "print(\"Initial Positions of Links \", listPoints)\n",
        "print(distance(goal, listPoints[2]))\n",
        "if(isValidGoal(goal)):\n",
        "  listPoints, iterations = newLinkPosition(listPoints)\n",
        "  print(\"Final Position of Links \", listPoints)\n",
        "  print(\"Total Iternation \", iterations)\n",
        "else :\n",
        "  print(\"Goal Point not in Reachable Space\")"
      ],
      "execution_count": null,
      "outputs": [
        {
          "output_type": "stream",
          "text": [
            "Enter number of Links : 4\n",
            "Enter Joint Angle : 35\n",
            "Enter Joint Angle : 25\n",
            "Enter Joint Angle : 45\n",
            "Enter Joint Angle : 60\n",
            "Enter x co-ordinate of Goal point : 5\n",
            "Enter y co-ordinate of Goal point : 5\n",
            "Initial Positions of Links  [[0, 0], [1.64, 1.15], [2.64, 2.88], [2.12, 4.81], [0.19, 5.33]]\n",
            "3.1723808094237365\n",
            "Final Position of Links  [[0, 0], [1.64, 1.15], [2.63, 2.89], [3.0, 4.86], [5.0, 5.0]]\n",
            "Total Iternation  1\n"
          ],
          "name": "stdout"
        }
      ]
    },
    {
      "cell_type": "code",
      "metadata": {
        "id": "p1l9Eb3MQHuj",
        "outputId": "9db661a6-06a1-4f24-d6c2-a22a7f455ecd",
        "colab": {
          "base_uri": "https://localhost:8080/",
          "height": 283
        }
      },
      "source": [
        "plt.scatter(goal[0], goal[1], label= \"stars\", color= \"red\", marker= \"*\", s=30) \n",
        "\n",
        "a = numpy.array(listPoints)\n",
        "x = a[:, 0]\n",
        "y = a[:, 1]\n",
        "print(x,y)\n",
        " \n",
        "plt.plot(x, y, color='green', label= \"FABRIK\") \n",
        "plt.show()"
      ],
      "execution_count": null,
      "outputs": [
        {
          "output_type": "stream",
          "text": [
            "[0.   1.64 2.63 3.   5.  ] [0.   1.15 2.89 4.86 5.  ]\n"
          ],
          "name": "stdout"
        },
        {
          "output_type": "display_data",
          "data": {
            "image/png": "[encoded data removed]",
            "text/plain": [
              "<Figure size 432x288 with 1 Axes>"
            ]
          },
          "metadata": {
            "tags": [],
            "needs_background": "light"
          }
        }
      ]
    },
    {
      "cell_type": "code",
      "metadata": {
        "id": "oC1EeUbYYIrc",
        "outputId": "9172a364-e8ec-4f63-df0d-8931f0db8dd6",
        "colab": {
          "base_uri": "https://localhost:8080/",
          "height": 265
        }
      },
      "source": [
        "l1 =l2 =2\n",
        "\n",
        "def twoLinkAngleCal(x,y):\n",
        "    try :\n",
        "        a2 = m.degrees(m.acos((x**2 + y**2 - l1**2 - l2**2) / (2*l1*l2)))\n",
        "        alpha = m.degrees(m.atan(y/x))\n",
        "        beta = m.degrees(m.asin(l2 * m.sin(a2) / m.sqrt(x**2 + y**2)))\n",
        "        a1 = alpha - beta\n",
        "        return round(a1,2), round(a2,2)\n",
        "    except Exception:\n",
        "        pass\n",
        "\n",
        "def calculateCoordinate(point, angle, length):\n",
        "    x, y = point\n",
        "    endy = y + length * m.sin(m.radians(angle))\n",
        "    endx = x + length * m.cos(m.radians(angle))\n",
        "    ##print(endx,endy)\n",
        "    \n",
        "    plt.plot([x, endx], [y, endy])\n",
        "    return endx,endy\n",
        "\n",
        "try : \n",
        "  a1, a2 = twoLinkAngleCal(goal[0],goal[1])\n",
        "  point = calculateCoordinate([0,0],a1,l1)\n",
        "  calculateCoordinate(point,a1+a2,l2)\n",
        "except Exception:\n",
        "  pass\n",
        "\n",
        "plt.scatter(goal[0], goal[1], label= \"stars\", color= \"red\", marker= \"*\", s=30) \n",
        " \n",
        "x = [0, listPoints[1][0], listPoints[2][0]] \n",
        "y = [0, listPoints[1][1], listPoints[2][1]] \n",
        " \n",
        "plt.plot(x, y, color='green', label= \"FABRIK\") \n",
        "plt.show()"
      ],
      "execution_count": null,
      "outputs": [
        {
          "output_type": "display_data",
          "data": {
            "image/png": "[encoded data removed]",
            "text/plain": [
              "<Figure size 432x288 with 1 Axes>"
            ]
          },
          "metadata": {
            "tags": [],
            "needs_background": "light"
          }
        }
      ]
    }
  ]
}